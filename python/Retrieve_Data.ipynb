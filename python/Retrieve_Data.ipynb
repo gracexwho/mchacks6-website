{
 "cells": [
  {
   "cell_type": "code",
   "execution_count": 314,
   "metadata": {},
   "outputs": [],
   "source": [
    "import requests\n",
    "import os\n",
    "import urllib\n",
    "import numpy as np\n",
    "import matplotlib.pyplot as plt\n",
    "from tqdm import tqdm_notebook as tqdm"
   ]
  },
  {
   "cell_type": "code",
   "execution_count": 239,
   "metadata": {},
   "outputs": [],
   "source": [
    "api_url = 'https://sandbox86.tactiorpm7000.com/tactio-clinician-api/1.1.4/'\n",
    "token_url = 'https://sandbox86.tactiorpm7000.com/token.php'\n",
    "token_request = {'grant_type' : 'password',\n",
    "               'client_id' : '083e9a44a763473fbeb62fbf90b74551',\n",
    "               'client_secret' : 'ba09798f0921456e8b4e5e4588ea536d',\n",
    "               'username' : 'tactioClinician',\n",
    "               'password' : 'tactio'}\n",
    "token = requests.post(token_url, data=token_request)\n",
    "token = token.json()\n",
    "token_hdr = {'Authorization' : f'Bearer {token[\"access_token\"]}'}"
   ]
  },
  {
   "cell_type": "code",
   "execution_count": 247,
   "metadata": {},
   "outputs": [],
   "source": [
    "patient_num = requests.get(f'{api_url}Patient', headers=token_hdr).json()\n",
    "parsed_url = urllib.parse.urlparse(patient_num['link'][2]['url'])\n",
    "max_page_num = int(urllib.parse.parse_qs(parsed_url.query)['page'][0])\n",
    "pids = []\n",
    "for i in range(1,max_page_num+1):\n",
    "    r = requests.get(f'{api_url}Patient?page={i}', headers=token_hdr)\n",
    "    pids += [entry['resource']['id'] for entry in r.json()['entry']]"
   ]
  },
  {
   "cell_type": "code",
   "execution_count": 315,
   "metadata": {
    "scrolled": true
   },
   "outputs": [
    {
     "data": {
      "application/vnd.jupyter.widget-view+json": {
       "model_id": "9ac7ccc8be9144e1bfc95558a28910bd",
       "version_major": 2,
       "version_minor": 0
      },
      "text/plain": [
       "HBox(children=(IntProgress(value=0, max=574), HTML(value='')))"
      ]
     },
     "metadata": {},
     "output_type": "display_data"
    },
    {
     "ename": "KeyError",
     "evalue": "'entry'",
     "output_type": "error",
     "traceback": [
      "\u001b[0;31m---------------------------------------------------------------------------\u001b[0m",
      "\u001b[0;31mKeyError\u001b[0m                                  Traceback (most recent call last)",
      "\u001b[0;32m<ipython-input-315-5b7ee4cc78da>\u001b[0m in \u001b[0;36m<module>\u001b[0;34m()\u001b[0m\n\u001b[1;32m     14\u001b[0m                          \u001b[0mparams\u001b[0m\u001b[0;34m=\u001b[0m\u001b[0mobs_params\u001b[0m\u001b[0;34m,\u001b[0m\u001b[0;34m\u001b[0m\u001b[0;34m\u001b[0m\u001b[0m\n\u001b[1;32m     15\u001b[0m                          headers=token_hdr).json()\n\u001b[0;32m---> 16\u001b[0;31m     \u001b[0;32mfor\u001b[0m \u001b[0mentry\u001b[0m \u001b[0;32min\u001b[0m \u001b[0mpdata\u001b[0m\u001b[0;34m[\u001b[0m\u001b[0;34m'entry'\u001b[0m\u001b[0;34m]\u001b[0m\u001b[0;34m:\u001b[0m\u001b[0;34m\u001b[0m\u001b[0;34m\u001b[0m\u001b[0m\n\u001b[0m\u001b[1;32m     17\u001b[0m         \u001b[0;32mif\u001b[0m \u001b[0mentry\u001b[0m\u001b[0;34m[\u001b[0m\u001b[0;34m'resource'\u001b[0m\u001b[0;34m]\u001b[0m\u001b[0;34m[\u001b[0m\u001b[0;34m'code'\u001b[0m\u001b[0;34m]\u001b[0m\u001b[0;34m[\u001b[0m\u001b[0;34m'text'\u001b[0m\u001b[0;34m]\u001b[0m \u001b[0;34m==\u001b[0m \u001b[0;34m'glucose'\u001b[0m\u001b[0;34m:\u001b[0m\u001b[0;34m\u001b[0m\u001b[0;34m\u001b[0m\u001b[0m\n\u001b[1;32m     18\u001b[0m             \u001b[0mglvl\u001b[0m \u001b[0;34m=\u001b[0m \u001b[0mentry\u001b[0m\u001b[0;34m[\u001b[0m\u001b[0;34m'resource'\u001b[0m\u001b[0;34m]\u001b[0m\u001b[0;34m[\u001b[0m\u001b[0;34m'valueQuantity'\u001b[0m\u001b[0;34m]\u001b[0m\u001b[0;34m[\u001b[0m\u001b[0;34m'value'\u001b[0m\u001b[0;34m]\u001b[0m\u001b[0;34m\u001b[0m\u001b[0;34m\u001b[0m\u001b[0m\n",
      "\u001b[0;31mKeyError\u001b[0m: 'entry'"
     ]
    }
   ],
   "source": [
    "# for pid in pids:\n",
    "#     obs_params = {'subject' : 'bced140a-0513-4873-af91-874fbec94e89'}\n",
    "#     pdata = requests.get(f'{api_url}Observation', \n",
    "#                          params=obs_params, \n",
    "#                          headers=token_hdr)\n",
    "#     pdata = pdata.json()\n",
    "#     print(pdata)\n",
    "#     break\n",
    "\n",
    "glvls = []\n",
    "for pid in tqdm(pids, total=len(pids)):    \n",
    "    obs_params = {'subject' : pid}\n",
    "    pdata = requests.get(f'{api_url}Observation', \n",
    "                         params=obs_params, \n",
    "                         headers=token_hdr).json()\n",
    "    for entry in pdata['entry']:\n",
    "        if entry['resource']['code']['text'] == 'glucose':\n",
    "            glvl = entry['resource']['valueQuantity']['value']\n",
    "            glvls.append(glvl)\n",
    "glvls = np.array(glvls, dtype=np.float64)\n",
    "\n",
    "plt.scatter(glvls, [0]*glvls.size)\n",
    "plt.show()"
   ]
  },
  {
   "cell_type": "code",
   "execution_count": null,
   "metadata": {},
   "outputs": [],
   "source": []
  },
  {
   "cell_type": "code",
   "execution_count": null,
   "metadata": {},
   "outputs": [],
   "source": []
  }
 ],
 "metadata": {
  "kernelspec": {
   "display_name": "Python 3",
   "language": "python",
   "name": "python3"
  },
  "language_info": {
   "codemirror_mode": {
    "name": "ipython",
    "version": 3
   },
   "file_extension": ".py",
   "mimetype": "text/x-python",
   "name": "python",
   "nbconvert_exporter": "python",
   "pygments_lexer": "ipython3",
   "version": "3.6.7"
  }
 },
 "nbformat": 4,
 "nbformat_minor": 2
}
